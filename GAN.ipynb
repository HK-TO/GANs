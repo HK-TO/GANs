{
  "nbformat": 4,
  "nbformat_minor": 0,
  "metadata": {
    "colab": {
      "provenance": [],
      "gpuType": "T4",
      "authorship_tag": "ABX9TyPYFJKk9gt0WQ77hHwpt1GM",
      "include_colab_link": true
    },
    "kernelspec": {
      "name": "python3",
      "display_name": "Python 3"
    },
    "language_info": {
      "name": "python"
    },
    "accelerator": "GPU"
  },
  "cells": [
    {
      "cell_type": "markdown",
      "metadata": {
        "id": "view-in-github",
        "colab_type": "text"
      },
      "source": [
        "<a href=\"https://colab.research.google.com/github/HK-TO/GANs/blob/main/GAN.ipynb\" target=\"_parent\"><img src=\"https://colab.research.google.com/assets/colab-badge.svg\" alt=\"Open In Colab\"/></a>"
      ]
    },
    {
      "cell_type": "markdown",
      "source": [
        "以下のサイトを参照した.  \n",
        "https://qiita.com/keiji_dl/items/45a5775a361151f9189d"
      ],
      "metadata": {
        "id": "JcmdPxzHPMpe"
      }
    },
    {
      "cell_type": "code",
      "execution_count": 3,
      "metadata": {
        "id": "x5umF_XX60cZ"
      },
      "outputs": [],
      "source": [
        "import torch\n",
        "from torch import nn"
      ]
    },
    {
      "cell_type": "markdown",
      "source": [
        "Define the discriminator and generator for MNIST datasets."
      ],
      "metadata": {
        "id": "ZsrKLvGF7Qhd"
      }
    },
    {
      "cell_type": "code",
      "source": [
        "class Discriminator(nn.Module):\n",
        "    def __init__(self):\n",
        "        super(Discriminator, self).__init__()\n",
        "        self.fc1 = nn.Linear(784, 512)\n",
        "        self.fc2 = nn.Linear(512, 1)\n",
        "        self.activation = nn.LeakyReLU(0.1)\n",
        "\n",
        "    def forward(self, x):\n",
        "        x = x.view(-1, 784)\n",
        "        x = self.activation(self.fc1(x))\n",
        "        x = self.fc2(x)\n",
        "\n",
        "        return nn.Sigmoid()(x)"
      ],
      "metadata": {
        "id": "FKpkNlhj7pjw"
      },
      "execution_count": 4,
      "outputs": []
    },
    {
      "cell_type": "code",
      "source": [
        "class Generator(nn.Module):\n",
        "    def __init__(self):\n",
        "        super(Generator, self).__init__()\n",
        "        self.fc1 = nn.Linear(128, 1024)\n",
        "        self.fc2 = nn.Linear(1024, 2048)\n",
        "        self.fc3 = nn.Linear(2048, 784)\n",
        "        self.activation = nn.ReLU()\n",
        "\n",
        "    def forward(self, x):\n",
        "        x = self.activation(self.fc1(x))\n",
        "        x = self.activation(self.fc2(x))\n",
        "        x = self.fc3(x)\n",
        "        x = x.view(-1, 1, 28, 28)\n",
        "        return nn.Tanh()(x)"
      ],
      "metadata": {
        "id": "F7fC9vOf4Zwg"
      },
      "execution_count": 5,
      "outputs": []
    },
    {
      "cell_type": "markdown",
      "source": [],
      "metadata": {
        "id": "SOK6nXs67WJm"
      }
    },
    {
      "cell_type": "code",
      "source": [
        "import time\n",
        "import torch\n",
        "from torch import nn, optim\n",
        "from torch.utils.data import DataLoader\n",
        "from torchvision import datasets\n",
        "from torchvision.transforms import transforms\n",
        "import numpy as np\n",
        "import matplotlib.pyplot as plt"
      ],
      "metadata": {
        "id": "KqvVRhJN0X7C"
      },
      "execution_count": 6,
      "outputs": []
    },
    {
      "cell_type": "code",
      "source": [
        "# set up the gpu device\n",
        "device = torch.device('cuda' if torch.cuda.is_available() else 'cpu')\n",
        "\n",
        "# hyperparameter\n",
        "epochs = 30\n",
        "lr = 2e-4\n",
        "batch_size = 64\n",
        "loss = nn.BCELoss()\n",
        "\n",
        "# Model\n",
        "generator = Generator().to(device)\n",
        "discriminator = Discriminator().to(device)\n",
        "\n",
        "generator_optimizer = optim.Adam(generator.parameters(), lr=lr, betas=(0.5, 0.999))\n",
        "discriminator_optimizer = optim.Adam(discriminator.parameters(), lr=lr, betas=(0.5, 0.999))\n",
        "\n",
        "# Define transform\n",
        "transform = transforms.Compose([transforms.ToTensor(),\n",
        "                                   transforms.Normalize((0.5, ), (0.5, ))])\n",
        "\n",
        "# Define data loader\n",
        "train_set = datasets.MNIST('mnist/', train=True, download=True, transform=transform)\n",
        "train_loader = DataLoader(train_set, batch_size=batch_size, shuffle=True)"
      ],
      "metadata": {
        "id": "tTFne1ct7MeE",
        "outputId": "ebddd305-09cc-4678-8297-46a77aaf1c57",
        "colab": {
          "base_uri": "https://localhost:8080/"
        }
      },
      "execution_count": 7,
      "outputs": [
        {
          "output_type": "stream",
          "name": "stdout",
          "text": [
            "Downloading http://yann.lecun.com/exdb/mnist/train-images-idx3-ubyte.gz\n",
            "Downloading http://yann.lecun.com/exdb/mnist/train-images-idx3-ubyte.gz to mnist/MNIST/raw/train-images-idx3-ubyte.gz\n"
          ]
        },
        {
          "output_type": "stream",
          "name": "stderr",
          "text": [
            "100%|██████████| 9912422/9912422 [00:00<00:00, 66319209.26it/s]\n"
          ]
        },
        {
          "output_type": "stream",
          "name": "stdout",
          "text": [
            "Extracting mnist/MNIST/raw/train-images-idx3-ubyte.gz to mnist/MNIST/raw\n",
            "\n",
            "Downloading http://yann.lecun.com/exdb/mnist/train-labels-idx1-ubyte.gz\n",
            "Downloading http://yann.lecun.com/exdb/mnist/train-labels-idx1-ubyte.gz to mnist/MNIST/raw/train-labels-idx1-ubyte.gz\n"
          ]
        },
        {
          "output_type": "stream",
          "name": "stderr",
          "text": [
            "100%|██████████| 28881/28881 [00:00<00:00, 12000762.22it/s]"
          ]
        },
        {
          "output_type": "stream",
          "name": "stdout",
          "text": [
            "Extracting mnist/MNIST/raw/train-labels-idx1-ubyte.gz to mnist/MNIST/raw\n",
            "\n",
            "Downloading http://yann.lecun.com/exdb/mnist/t10k-images-idx3-ubyte.gz\n"
          ]
        },
        {
          "output_type": "stream",
          "name": "stderr",
          "text": [
            "\n"
          ]
        },
        {
          "output_type": "stream",
          "name": "stdout",
          "text": [
            "Downloading http://yann.lecun.com/exdb/mnist/t10k-images-idx3-ubyte.gz to mnist/MNIST/raw/t10k-images-idx3-ubyte.gz\n"
          ]
        },
        {
          "output_type": "stream",
          "name": "stderr",
          "text": [
            "100%|██████████| 1648877/1648877 [00:00<00:00, 3102036.63it/s]\n"
          ]
        },
        {
          "output_type": "stream",
          "name": "stdout",
          "text": [
            "Extracting mnist/MNIST/raw/t10k-images-idx3-ubyte.gz to mnist/MNIST/raw\n",
            "\n",
            "Downloading http://yann.lecun.com/exdb/mnist/t10k-labels-idx1-ubyte.gz\n",
            "Downloading http://yann.lecun.com/exdb/mnist/t10k-labels-idx1-ubyte.gz to mnist/MNIST/raw/t10k-labels-idx1-ubyte.gz\n"
          ]
        },
        {
          "output_type": "stream",
          "name": "stderr",
          "text": [
            "100%|██████████| 4542/4542 [00:00<00:00, 19459171.37it/s]"
          ]
        },
        {
          "output_type": "stream",
          "name": "stdout",
          "text": [
            "Extracting mnist/MNIST/raw/t10k-labels-idx1-ubyte.gz to mnist/MNIST/raw\n",
            "\n"
          ]
        },
        {
          "output_type": "stream",
          "name": "stderr",
          "text": [
            "\n"
          ]
        }
      ]
    },
    {
      "cell_type": "code",
      "source": [
        "# Learning process\n",
        "for epoch in range(epochs):\n",
        "    for idx, (imgs, _) in enumerate(train_loader):\n",
        "        idx += 1\n",
        "\n",
        "        # Train discriminator\n",
        "        real_inputs = imgs.to(device)\n",
        "        real_outputs = discriminator(real_inputs)\n",
        "        real_label = torch.ones((real_inputs.shape[0], 1), device=device)\n",
        "\n",
        "        noise = (torch.rand((real_inputs.shape[0], 128), device=device) - 0.5) / 0.5\n",
        "        fake_inputs = generator(noise)\n",
        "        fake_outputs = discriminator(fake_inputs)\n",
        "        fake_label = torch.zeros((fake_inputs.shape[0], 1), device=device)\n",
        "\n",
        "        outputs = torch.cat([real_outputs, fake_outputs], dim=0)\n",
        "        labels = torch.cat([real_label, fake_label], dim=0)\n",
        "\n",
        "        discriminator_loss = loss(outputs, labels)\n",
        "        discriminator_optimizer.zero_grad()\n",
        "        discriminator_loss.backward()\n",
        "        discriminator_optimizer.step()\n",
        "\n",
        "        # Train generator\n",
        "        noise = (torch.rand((real_inputs.shape[0], 128), device=device) - 0.5) / 0.5\n",
        "        fake_inputs = generator(noise)\n",
        "        fake_outputs = discriminator(fake_inputs)\n",
        "        fake_targets = torch.ones((fake_inputs.shape[0], 1), device=device)\n",
        "\n",
        "        generator_loss = loss(fake_outputs, fake_targets)\n",
        "        generator_optimizer.zero_grad()\n",
        "        generator_loss.backward()\n",
        "        generator_optimizer.step()\n",
        "\n",
        "        if idx % 100 == 0 or idx == len(train_loader):\n",
        "            print('Epoch {} Iteration {}: discriminator loss {:.3f} generator loss {:.3f}'.format(epoch, idx, discriminator_loss.item(), generator_loss.item()))\n",
        "\n",
        "    torch.save(generator, 'Generator_{}'.format(epoch))\n",
        "    print('Model saved.')"
      ],
      "metadata": {
        "id": "XAM114oV0z2Z",
        "outputId": "3c172691-4b2e-4a01-aa7f-a8d603192faf",
        "colab": {
          "base_uri": "https://localhost:8080/"
        }
      },
      "execution_count": 8,
      "outputs": [
        {
          "output_type": "stream",
          "name": "stdout",
          "text": [
            "Epoch 0 Iteration 100: discriminator loss 0.685 generator loss 0.889\n",
            "Epoch 0 Iteration 200: discriminator loss 0.681 generator loss 0.782\n",
            "Epoch 0 Iteration 300: discriminator loss 0.671 generator loss 0.793\n",
            "Epoch 0 Iteration 400: discriminator loss 0.590 generator loss 0.849\n",
            "Epoch 0 Iteration 500: discriminator loss 0.581 generator loss 0.776\n",
            "Epoch 0 Iteration 600: discriminator loss 0.543 generator loss 0.879\n",
            "Epoch 0 Iteration 700: discriminator loss 0.439 generator loss 1.027\n",
            "Epoch 0 Iteration 800: discriminator loss 0.494 generator loss 0.921\n",
            "Epoch 0 Iteration 900: discriminator loss 0.446 generator loss 1.172\n",
            "Epoch 0 Iteration 938: discriminator loss 0.515 generator loss 1.009\n",
            "Epoch 1 Iteration 100: discriminator loss 0.459 generator loss 1.332\n",
            "Epoch 1 Iteration 200: discriminator loss 0.487 generator loss 1.101\n",
            "Epoch 1 Iteration 300: discriminator loss 0.469 generator loss 1.301\n",
            "Epoch 1 Iteration 400: discriminator loss 0.340 generator loss 1.320\n",
            "Epoch 1 Iteration 500: discriminator loss 0.514 generator loss 1.267\n",
            "Epoch 1 Iteration 600: discriminator loss 0.495 generator loss 1.329\n",
            "Epoch 1 Iteration 700: discriminator loss 0.481 generator loss 1.300\n",
            "Epoch 1 Iteration 800: discriminator loss 0.481 generator loss 1.362\n",
            "Epoch 1 Iteration 900: discriminator loss 0.508 generator loss 1.352\n",
            "Epoch 1 Iteration 938: discriminator loss 0.647 generator loss 0.780\n",
            "Epoch 2 Iteration 100: discriminator loss 0.490 generator loss 0.982\n",
            "Epoch 2 Iteration 200: discriminator loss 0.410 generator loss 1.427\n",
            "Epoch 2 Iteration 300: discriminator loss 0.407 generator loss 1.635\n",
            "Epoch 2 Iteration 400: discriminator loss 0.434 generator loss 2.006\n",
            "Epoch 2 Iteration 500: discriminator loss 0.432 generator loss 1.299\n",
            "Epoch 2 Iteration 600: discriminator loss 0.420 generator loss 1.231\n",
            "Epoch 2 Iteration 700: discriminator loss 0.542 generator loss 1.371\n",
            "Epoch 2 Iteration 800: discriminator loss 0.459 generator loss 1.227\n",
            "Epoch 2 Iteration 900: discriminator loss 0.486 generator loss 0.867\n",
            "Epoch 2 Iteration 938: discriminator loss 0.438 generator loss 1.220\n",
            "Epoch 3 Iteration 100: discriminator loss 0.430 generator loss 1.611\n",
            "Epoch 3 Iteration 200: discriminator loss 0.477 generator loss 1.200\n",
            "Epoch 3 Iteration 300: discriminator loss 0.615 generator loss 0.703\n",
            "Epoch 3 Iteration 400: discriminator loss 0.532 generator loss 1.509\n",
            "Epoch 3 Iteration 500: discriminator loss 0.524 generator loss 1.035\n",
            "Epoch 3 Iteration 600: discriminator loss 0.457 generator loss 1.554\n",
            "Epoch 3 Iteration 700: discriminator loss 0.550 generator loss 1.161\n",
            "Epoch 3 Iteration 800: discriminator loss 0.683 generator loss 0.948\n",
            "Epoch 3 Iteration 900: discriminator loss 0.610 generator loss 1.183\n",
            "Epoch 3 Iteration 938: discriminator loss 0.583 generator loss 0.801\n",
            "Epoch 4 Iteration 100: discriminator loss 0.596 generator loss 1.066\n",
            "Epoch 4 Iteration 200: discriminator loss 0.545 generator loss 1.166\n",
            "Epoch 4 Iteration 300: discriminator loss 0.630 generator loss 1.044\n",
            "Epoch 4 Iteration 400: discriminator loss 0.609 generator loss 0.958\n",
            "Epoch 4 Iteration 500: discriminator loss 0.553 generator loss 0.990\n",
            "Epoch 4 Iteration 600: discriminator loss 0.526 generator loss 1.255\n",
            "Epoch 4 Iteration 700: discriminator loss 0.513 generator loss 1.159\n",
            "Epoch 4 Iteration 800: discriminator loss 0.637 generator loss 0.832\n",
            "Epoch 4 Iteration 900: discriminator loss 0.659 generator loss 1.429\n",
            "Epoch 4 Iteration 938: discriminator loss 0.572 generator loss 0.955\n",
            "Epoch 5 Iteration 100: discriminator loss 0.599 generator loss 1.091\n",
            "Epoch 5 Iteration 200: discriminator loss 0.644 generator loss 0.938\n",
            "Epoch 5 Iteration 300: discriminator loss 0.571 generator loss 1.138\n",
            "Epoch 5 Iteration 400: discriminator loss 0.562 generator loss 1.545\n",
            "Epoch 5 Iteration 500: discriminator loss 0.607 generator loss 0.976\n",
            "Epoch 5 Iteration 600: discriminator loss 0.644 generator loss 1.575\n",
            "Epoch 5 Iteration 700: discriminator loss 0.503 generator loss 1.391\n",
            "Epoch 5 Iteration 800: discriminator loss 0.639 generator loss 1.036\n",
            "Epoch 5 Iteration 900: discriminator loss 0.615 generator loss 1.022\n",
            "Epoch 5 Iteration 938: discriminator loss 0.619 generator loss 0.779\n",
            "Epoch 6 Iteration 100: discriminator loss 0.618 generator loss 0.947\n",
            "Epoch 6 Iteration 200: discriminator loss 0.649 generator loss 1.445\n",
            "Epoch 6 Iteration 300: discriminator loss 0.593 generator loss 1.129\n",
            "Epoch 6 Iteration 400: discriminator loss 0.599 generator loss 0.687\n",
            "Epoch 6 Iteration 500: discriminator loss 0.616 generator loss 1.007\n",
            "Epoch 6 Iteration 600: discriminator loss 0.681 generator loss 0.905\n",
            "Epoch 6 Iteration 700: discriminator loss 0.603 generator loss 1.113\n",
            "Epoch 6 Iteration 800: discriminator loss 0.602 generator loss 0.973\n",
            "Epoch 6 Iteration 900: discriminator loss 0.598 generator loss 1.158\n",
            "Epoch 6 Iteration 938: discriminator loss 0.677 generator loss 1.231\n",
            "Epoch 7 Iteration 100: discriminator loss 0.573 generator loss 0.925\n",
            "Epoch 7 Iteration 200: discriminator loss 0.572 generator loss 0.890\n",
            "Epoch 7 Iteration 300: discriminator loss 0.678 generator loss 1.045\n",
            "Epoch 7 Iteration 400: discriminator loss 0.607 generator loss 1.061\n",
            "Epoch 7 Iteration 500: discriminator loss 0.645 generator loss 1.034\n",
            "Epoch 7 Iteration 600: discriminator loss 0.625 generator loss 0.730\n",
            "Epoch 7 Iteration 700: discriminator loss 0.640 generator loss 0.848\n",
            "Epoch 7 Iteration 800: discriminator loss 0.648 generator loss 1.116\n",
            "Epoch 7 Iteration 900: discriminator loss 0.589 generator loss 1.088\n",
            "Epoch 7 Iteration 938: discriminator loss 0.602 generator loss 0.970\n",
            "Epoch 8 Iteration 100: discriminator loss 0.672 generator loss 0.973\n",
            "Epoch 8 Iteration 200: discriminator loss 0.629 generator loss 1.131\n",
            "Epoch 8 Iteration 300: discriminator loss 0.636 generator loss 0.993\n",
            "Epoch 8 Iteration 400: discriminator loss 0.607 generator loss 1.018\n",
            "Epoch 8 Iteration 500: discriminator loss 0.607 generator loss 0.940\n",
            "Epoch 8 Iteration 600: discriminator loss 0.627 generator loss 0.830\n",
            "Epoch 8 Iteration 700: discriminator loss 0.671 generator loss 0.964\n",
            "Epoch 8 Iteration 800: discriminator loss 0.697 generator loss 1.064\n",
            "Epoch 8 Iteration 900: discriminator loss 0.662 generator loss 0.682\n",
            "Epoch 8 Iteration 938: discriminator loss 0.596 generator loss 1.078\n",
            "Epoch 9 Iteration 100: discriminator loss 0.622 generator loss 0.726\n",
            "Epoch 9 Iteration 200: discriminator loss 0.602 generator loss 1.116\n",
            "Epoch 9 Iteration 300: discriminator loss 0.590 generator loss 0.888\n",
            "Epoch 9 Iteration 400: discriminator loss 0.609 generator loss 0.821\n",
            "Epoch 9 Iteration 500: discriminator loss 0.636 generator loss 0.805\n",
            "Epoch 9 Iteration 600: discriminator loss 0.595 generator loss 1.084\n",
            "Epoch 9 Iteration 700: discriminator loss 0.635 generator loss 0.802\n",
            "Epoch 9 Iteration 800: discriminator loss 0.639 generator loss 0.962\n",
            "Epoch 9 Iteration 900: discriminator loss 0.644 generator loss 0.878\n",
            "Epoch 9 Iteration 938: discriminator loss 0.611 generator loss 0.777\n",
            "Model saved.\n",
            "Epoch 10 Iteration 100: discriminator loss 0.637 generator loss 0.675\n",
            "Epoch 10 Iteration 200: discriminator loss 0.615 generator loss 0.760\n",
            "Epoch 10 Iteration 300: discriminator loss 0.685 generator loss 0.666\n",
            "Epoch 10 Iteration 400: discriminator loss 0.614 generator loss 0.842\n",
            "Epoch 10 Iteration 500: discriminator loss 0.646 generator loss 1.044\n",
            "Epoch 10 Iteration 600: discriminator loss 0.600 generator loss 1.021\n",
            "Epoch 10 Iteration 700: discriminator loss 0.658 generator loss 0.757\n",
            "Epoch 10 Iteration 800: discriminator loss 0.624 generator loss 0.627\n",
            "Epoch 10 Iteration 900: discriminator loss 0.583 generator loss 0.905\n",
            "Epoch 10 Iteration 938: discriminator loss 0.699 generator loss 0.594\n",
            "Epoch 11 Iteration 100: discriminator loss 0.690 generator loss 0.743\n",
            "Epoch 11 Iteration 200: discriminator loss 0.633 generator loss 1.008\n",
            "Epoch 11 Iteration 300: discriminator loss 0.641 generator loss 0.970\n",
            "Epoch 11 Iteration 400: discriminator loss 0.654 generator loss 0.969\n",
            "Epoch 11 Iteration 500: discriminator loss 0.619 generator loss 0.567\n",
            "Epoch 11 Iteration 600: discriminator loss 0.647 generator loss 0.843\n",
            "Epoch 11 Iteration 700: discriminator loss 0.647 generator loss 0.867\n",
            "Epoch 11 Iteration 800: discriminator loss 0.628 generator loss 1.131\n",
            "Epoch 11 Iteration 900: discriminator loss 0.667 generator loss 0.640\n",
            "Epoch 11 Iteration 938: discriminator loss 0.617 generator loss 0.756\n",
            "Epoch 12 Iteration 100: discriminator loss 0.678 generator loss 1.018\n",
            "Epoch 12 Iteration 200: discriminator loss 0.663 generator loss 0.856\n",
            "Epoch 12 Iteration 300: discriminator loss 0.662 generator loss 0.942\n",
            "Epoch 12 Iteration 400: discriminator loss 0.651 generator loss 0.954\n",
            "Epoch 12 Iteration 500: discriminator loss 0.659 generator loss 0.938\n",
            "Epoch 12 Iteration 600: discriminator loss 0.694 generator loss 0.900\n",
            "Epoch 12 Iteration 700: discriminator loss 0.641 generator loss 0.917\n",
            "Epoch 12 Iteration 800: discriminator loss 0.632 generator loss 0.887\n",
            "Epoch 12 Iteration 900: discriminator loss 0.657 generator loss 0.962\n",
            "Epoch 12 Iteration 938: discriminator loss 0.636 generator loss 1.143\n",
            "Epoch 13 Iteration 100: discriminator loss 0.656 generator loss 0.840\n",
            "Epoch 13 Iteration 200: discriminator loss 0.623 generator loss 0.621\n",
            "Epoch 13 Iteration 300: discriminator loss 0.640 generator loss 0.831\n",
            "Epoch 13 Iteration 400: discriminator loss 0.666 generator loss 0.660\n",
            "Epoch 13 Iteration 500: discriminator loss 0.608 generator loss 0.782\n",
            "Epoch 13 Iteration 600: discriminator loss 0.632 generator loss 0.799\n",
            "Epoch 13 Iteration 700: discriminator loss 0.620 generator loss 0.731\n",
            "Epoch 13 Iteration 800: discriminator loss 0.678 generator loss 0.955\n",
            "Epoch 13 Iteration 900: discriminator loss 0.655 generator loss 0.946\n",
            "Epoch 13 Iteration 938: discriminator loss 0.670 generator loss 0.758\n",
            "Epoch 14 Iteration 100: discriminator loss 0.643 generator loss 0.827\n",
            "Epoch 14 Iteration 200: discriminator loss 0.666 generator loss 1.009\n",
            "Epoch 14 Iteration 300: discriminator loss 0.645 generator loss 0.794\n",
            "Epoch 14 Iteration 400: discriminator loss 0.661 generator loss 0.868\n",
            "Epoch 14 Iteration 500: discriminator loss 0.649 generator loss 0.830\n",
            "Epoch 14 Iteration 600: discriminator loss 0.628 generator loss 0.852\n",
            "Epoch 14 Iteration 700: discriminator loss 0.644 generator loss 0.786\n",
            "Epoch 14 Iteration 800: discriminator loss 0.621 generator loss 0.718\n",
            "Epoch 14 Iteration 900: discriminator loss 0.656 generator loss 1.131\n",
            "Epoch 14 Iteration 938: discriminator loss 0.682 generator loss 1.031\n",
            "Epoch 15 Iteration 100: discriminator loss 0.737 generator loss 1.384\n",
            "Epoch 15 Iteration 200: discriminator loss 0.687 generator loss 0.788\n",
            "Epoch 15 Iteration 300: discriminator loss 0.689 generator loss 0.882\n",
            "Epoch 15 Iteration 400: discriminator loss 0.682 generator loss 0.971\n",
            "Epoch 15 Iteration 500: discriminator loss 0.603 generator loss 0.816\n",
            "Epoch 15 Iteration 600: discriminator loss 0.678 generator loss 0.738\n",
            "Epoch 15 Iteration 700: discriminator loss 0.664 generator loss 0.778\n",
            "Epoch 15 Iteration 800: discriminator loss 0.673 generator loss 0.866\n",
            "Epoch 15 Iteration 900: discriminator loss 0.677 generator loss 0.776\n",
            "Epoch 15 Iteration 938: discriminator loss 0.620 generator loss 0.771\n",
            "Epoch 16 Iteration 100: discriminator loss 0.674 generator loss 0.790\n",
            "Epoch 16 Iteration 200: discriminator loss 0.620 generator loss 0.659\n",
            "Epoch 16 Iteration 300: discriminator loss 0.699 generator loss 1.023\n",
            "Epoch 16 Iteration 400: discriminator loss 0.679 generator loss 0.705\n",
            "Epoch 16 Iteration 500: discriminator loss 0.678 generator loss 0.832\n",
            "Epoch 16 Iteration 600: discriminator loss 0.694 generator loss 0.749\n",
            "Epoch 16 Iteration 700: discriminator loss 0.647 generator loss 0.913\n",
            "Epoch 16 Iteration 800: discriminator loss 0.648 generator loss 1.021\n",
            "Epoch 16 Iteration 900: discriminator loss 0.676 generator loss 0.668\n",
            "Epoch 16 Iteration 938: discriminator loss 0.714 generator loss 0.795\n",
            "Epoch 17 Iteration 100: discriminator loss 0.653 generator loss 0.956\n",
            "Epoch 17 Iteration 200: discriminator loss 0.645 generator loss 0.809\n",
            "Epoch 17 Iteration 300: discriminator loss 0.693 generator loss 0.982\n",
            "Epoch 17 Iteration 400: discriminator loss 0.695 generator loss 0.762\n",
            "Epoch 17 Iteration 500: discriminator loss 0.696 generator loss 0.740\n",
            "Epoch 17 Iteration 600: discriminator loss 0.633 generator loss 0.815\n",
            "Epoch 17 Iteration 700: discriminator loss 0.681 generator loss 0.848\n",
            "Epoch 17 Iteration 800: discriminator loss 0.690 generator loss 0.866\n",
            "Epoch 17 Iteration 900: discriminator loss 0.677 generator loss 0.634\n",
            "Epoch 17 Iteration 938: discriminator loss 0.637 generator loss 0.833\n",
            "Epoch 18 Iteration 100: discriminator loss 0.704 generator loss 1.048\n",
            "Epoch 18 Iteration 200: discriminator loss 0.707 generator loss 0.632\n",
            "Epoch 18 Iteration 300: discriminator loss 0.671 generator loss 0.678\n",
            "Epoch 18 Iteration 400: discriminator loss 0.684 generator loss 0.948\n",
            "Epoch 18 Iteration 500: discriminator loss 0.667 generator loss 0.712\n",
            "Epoch 18 Iteration 600: discriminator loss 0.670 generator loss 0.792\n",
            "Epoch 18 Iteration 700: discriminator loss 0.672 generator loss 0.658\n",
            "Epoch 18 Iteration 800: discriminator loss 0.685 generator loss 0.777\n",
            "Epoch 18 Iteration 900: discriminator loss 0.670 generator loss 1.047\n",
            "Epoch 18 Iteration 938: discriminator loss 0.683 generator loss 0.561\n",
            "Epoch 19 Iteration 100: discriminator loss 0.676 generator loss 0.760\n",
            "Epoch 19 Iteration 200: discriminator loss 0.666 generator loss 0.802\n",
            "Epoch 19 Iteration 300: discriminator loss 0.680 generator loss 0.710\n",
            "Epoch 19 Iteration 400: discriminator loss 0.656 generator loss 0.699\n",
            "Epoch 19 Iteration 500: discriminator loss 0.690 generator loss 0.686\n",
            "Epoch 19 Iteration 600: discriminator loss 0.696 generator loss 0.946\n",
            "Epoch 19 Iteration 700: discriminator loss 0.708 generator loss 0.893\n",
            "Epoch 19 Iteration 800: discriminator loss 0.673 generator loss 0.725\n",
            "Epoch 19 Iteration 900: discriminator loss 0.668 generator loss 0.856\n",
            "Epoch 19 Iteration 938: discriminator loss 0.685 generator loss 0.947\n",
            "Model saved.\n",
            "Epoch 20 Iteration 100: discriminator loss 0.642 generator loss 0.723\n",
            "Epoch 20 Iteration 200: discriminator loss 0.691 generator loss 0.645\n",
            "Epoch 20 Iteration 300: discriminator loss 0.678 generator loss 0.831\n",
            "Epoch 20 Iteration 400: discriminator loss 0.652 generator loss 0.843\n",
            "Epoch 20 Iteration 500: discriminator loss 0.687 generator loss 0.829\n",
            "Epoch 20 Iteration 600: discriminator loss 0.705 generator loss 0.693\n",
            "Epoch 20 Iteration 700: discriminator loss 0.696 generator loss 0.520\n",
            "Epoch 20 Iteration 800: discriminator loss 0.691 generator loss 0.772\n",
            "Epoch 20 Iteration 900: discriminator loss 0.683 generator loss 0.712\n",
            "Epoch 20 Iteration 938: discriminator loss 0.690 generator loss 0.660\n",
            "Epoch 21 Iteration 100: discriminator loss 0.666 generator loss 0.955\n",
            "Epoch 21 Iteration 200: discriminator loss 0.652 generator loss 0.692\n",
            "Epoch 21 Iteration 300: discriminator loss 0.673 generator loss 0.637\n",
            "Epoch 21 Iteration 400: discriminator loss 0.691 generator loss 0.762\n",
            "Epoch 21 Iteration 500: discriminator loss 0.657 generator loss 0.945\n",
            "Epoch 21 Iteration 600: discriminator loss 0.647 generator loss 0.917\n",
            "Epoch 21 Iteration 700: discriminator loss 0.686 generator loss 0.833\n",
            "Epoch 21 Iteration 800: discriminator loss 0.672 generator loss 0.784\n",
            "Epoch 21 Iteration 900: discriminator loss 0.653 generator loss 0.824\n",
            "Epoch 21 Iteration 938: discriminator loss 0.700 generator loss 0.855\n",
            "Epoch 22 Iteration 100: discriminator loss 0.690 generator loss 0.789\n",
            "Epoch 22 Iteration 200: discriminator loss 0.721 generator loss 0.725\n",
            "Epoch 22 Iteration 300: discriminator loss 0.677 generator loss 0.896\n",
            "Epoch 22 Iteration 400: discriminator loss 0.671 generator loss 0.805\n",
            "Epoch 22 Iteration 500: discriminator loss 0.681 generator loss 0.607\n",
            "Epoch 22 Iteration 600: discriminator loss 0.705 generator loss 0.603\n",
            "Epoch 22 Iteration 700: discriminator loss 0.681 generator loss 0.819\n",
            "Epoch 22 Iteration 800: discriminator loss 0.670 generator loss 0.791\n",
            "Epoch 22 Iteration 900: discriminator loss 0.697 generator loss 0.824\n",
            "Epoch 22 Iteration 938: discriminator loss 0.694 generator loss 0.623\n",
            "Epoch 23 Iteration 100: discriminator loss 0.694 generator loss 0.817\n",
            "Epoch 23 Iteration 200: discriminator loss 0.663 generator loss 0.787\n",
            "Epoch 23 Iteration 300: discriminator loss 0.666 generator loss 0.857\n",
            "Epoch 23 Iteration 400: discriminator loss 0.684 generator loss 0.793\n",
            "Epoch 23 Iteration 500: discriminator loss 0.645 generator loss 0.790\n",
            "Epoch 23 Iteration 600: discriminator loss 0.656 generator loss 0.784\n",
            "Epoch 23 Iteration 700: discriminator loss 0.656 generator loss 0.788\n",
            "Epoch 23 Iteration 800: discriminator loss 0.623 generator loss 0.753\n",
            "Epoch 23 Iteration 900: discriminator loss 0.688 generator loss 0.765\n",
            "Epoch 23 Iteration 938: discriminator loss 0.686 generator loss 0.945\n",
            "Epoch 24 Iteration 100: discriminator loss 0.683 generator loss 0.888\n",
            "Epoch 24 Iteration 200: discriminator loss 0.696 generator loss 0.743\n",
            "Epoch 24 Iteration 300: discriminator loss 0.693 generator loss 0.693\n",
            "Epoch 24 Iteration 400: discriminator loss 0.750 generator loss 1.301\n",
            "Epoch 24 Iteration 500: discriminator loss 0.692 generator loss 0.620\n",
            "Epoch 24 Iteration 600: discriminator loss 0.648 generator loss 0.857\n",
            "Epoch 24 Iteration 700: discriminator loss 0.632 generator loss 0.761\n",
            "Epoch 24 Iteration 800: discriminator loss 0.722 generator loss 0.879\n",
            "Epoch 24 Iteration 900: discriminator loss 0.679 generator loss 0.693\n",
            "Epoch 24 Iteration 938: discriminator loss 0.669 generator loss 0.661\n",
            "Epoch 25 Iteration 100: discriminator loss 0.666 generator loss 0.693\n",
            "Epoch 25 Iteration 200: discriminator loss 0.639 generator loss 0.793\n",
            "Epoch 25 Iteration 300: discriminator loss 0.660 generator loss 0.883\n",
            "Epoch 25 Iteration 400: discriminator loss 0.679 generator loss 0.683\n",
            "Epoch 25 Iteration 500: discriminator loss 0.672 generator loss 0.672\n",
            "Epoch 25 Iteration 600: discriminator loss 0.663 generator loss 0.615\n",
            "Epoch 25 Iteration 700: discriminator loss 0.644 generator loss 0.822\n",
            "Epoch 25 Iteration 800: discriminator loss 0.704 generator loss 0.918\n",
            "Epoch 25 Iteration 900: discriminator loss 0.691 generator loss 0.690\n",
            "Epoch 25 Iteration 938: discriminator loss 0.694 generator loss 0.766\n",
            "Epoch 26 Iteration 100: discriminator loss 0.682 generator loss 0.735\n",
            "Epoch 26 Iteration 200: discriminator loss 0.664 generator loss 0.770\n",
            "Epoch 26 Iteration 300: discriminator loss 0.712 generator loss 0.642\n",
            "Epoch 26 Iteration 400: discriminator loss 0.694 generator loss 0.731\n",
            "Epoch 26 Iteration 500: discriminator loss 0.688 generator loss 0.877\n",
            "Epoch 26 Iteration 600: discriminator loss 0.683 generator loss 0.691\n",
            "Epoch 26 Iteration 700: discriminator loss 0.657 generator loss 0.825\n",
            "Epoch 26 Iteration 800: discriminator loss 0.669 generator loss 0.721\n",
            "Epoch 26 Iteration 900: discriminator loss 0.666 generator loss 0.675\n",
            "Epoch 26 Iteration 938: discriminator loss 0.665 generator loss 0.820\n",
            "Epoch 27 Iteration 100: discriminator loss 0.686 generator loss 0.674\n",
            "Epoch 27 Iteration 200: discriminator loss 0.672 generator loss 0.748\n",
            "Epoch 27 Iteration 300: discriminator loss 0.669 generator loss 0.898\n",
            "Epoch 27 Iteration 400: discriminator loss 0.699 generator loss 0.717\n",
            "Epoch 27 Iteration 500: discriminator loss 0.701 generator loss 0.863\n",
            "Epoch 27 Iteration 600: discriminator loss 0.666 generator loss 0.768\n",
            "Epoch 27 Iteration 700: discriminator loss 0.678 generator loss 0.831\n",
            "Epoch 27 Iteration 800: discriminator loss 0.668 generator loss 0.782\n",
            "Epoch 27 Iteration 900: discriminator loss 0.713 generator loss 1.017\n",
            "Epoch 27 Iteration 938: discriminator loss 0.660 generator loss 1.083\n",
            "Epoch 28 Iteration 100: discriminator loss 0.700 generator loss 0.817\n",
            "Epoch 28 Iteration 200: discriminator loss 0.653 generator loss 0.913\n",
            "Epoch 28 Iteration 300: discriminator loss 0.686 generator loss 0.570\n",
            "Epoch 28 Iteration 400: discriminator loss 0.671 generator loss 0.925\n",
            "Epoch 28 Iteration 500: discriminator loss 0.664 generator loss 0.973\n",
            "Epoch 28 Iteration 600: discriminator loss 0.704 generator loss 0.478\n",
            "Epoch 28 Iteration 700: discriminator loss 0.665 generator loss 0.546\n",
            "Epoch 28 Iteration 800: discriminator loss 0.639 generator loss 0.886\n",
            "Epoch 28 Iteration 900: discriminator loss 0.652 generator loss 0.839\n",
            "Epoch 28 Iteration 938: discriminator loss 0.640 generator loss 0.696\n",
            "Epoch 29 Iteration 100: discriminator loss 0.667 generator loss 0.979\n",
            "Epoch 29 Iteration 200: discriminator loss 0.659 generator loss 0.779\n",
            "Epoch 29 Iteration 300: discriminator loss 0.667 generator loss 0.694\n",
            "Epoch 29 Iteration 400: discriminator loss 0.656 generator loss 0.831\n",
            "Epoch 29 Iteration 500: discriminator loss 0.674 generator loss 0.860\n",
            "Epoch 29 Iteration 600: discriminator loss 0.689 generator loss 0.760\n",
            "Epoch 29 Iteration 700: discriminator loss 0.649 generator loss 0.800\n",
            "Epoch 29 Iteration 800: discriminator loss 0.757 generator loss 0.809\n",
            "Epoch 29 Iteration 900: discriminator loss 0.670 generator loss 0.822\n",
            "Epoch 29 Iteration 938: discriminator loss 0.663 generator loss 0.804\n",
            "Model saved.\n"
          ]
        }
      ]
    },
    {
      "cell_type": "markdown",
      "source": [
        "Generate images from trained model."
      ],
      "metadata": {
        "id": "4indZnB2FSvj"
      }
    },
    {
      "cell_type": "code",
      "source": [
        "input = train_set\n",
        "for i in input:\n",
        "    print('real')\n",
        "    plt.imshow(i[0][0].reshape(28, 28))\n",
        "    plt.show()\n",
        "    real_inputs = i[0][0]\n",
        "    noise = (torch.rand(real_inputs.shape[0], 128)-0.5)/0.5\n",
        "    noise = noise.to(device)\n",
        "    fake_inputs = generator(noise)\n",
        "    print(\"fake\")\n",
        "    plt.imshow(fake_inputs[0][0].cpu().detach().numpy().reshape(28,28))\n",
        "    plt.show()\n",
        "    break"
      ],
      "metadata": {
        "id": "9KCLnsQvFFJt",
        "outputId": "be64118d-4a76-4d94-e52a-7ce5c87e6710",
        "colab": {
          "base_uri": "https://localhost:8080/",
          "height": 879
        }
      },
      "execution_count": 38,
      "outputs": [
        {
          "output_type": "stream",
          "name": "stdout",
          "text": [
            "real\n"
          ]
        },
        {
          "output_type": "display_data",
          "data": {
            "text/plain": [
              "<Figure size 640x480 with 1 Axes>"
            ],
            "image/png": "[encoded data removed]"
          },
          "metadata": {}
        },
        {
          "output_type": "stream",
          "name": "stdout",
          "text": [
            "fake\n"
          ]
        },
        {
          "output_type": "display_data",
          "data": {
            "text/plain": [
              "<Figure size 640x480 with 1 Axes>"
            ],
            "image/png": "[encoded data removed]"
          },
          "metadata": {}
        }
      ]
    },
    {
      "cell_type": "code",
      "source": [],
      "metadata": {
        "id": "dx8RcGeqIdJo"
      },
      "execution_count": null,
      "outputs": []
    }
  ]
}