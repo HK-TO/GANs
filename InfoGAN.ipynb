{
  "nbformat": 4,
  "nbformat_minor": 0,
  "metadata": {
    "colab": {
      "provenance": [],
      "gpuType": "T4",
      "authorship_tag": "ABX9TyMHROnIBxctFeUTUDxdgZXr",
      "include_colab_link": true
    },
    "kernelspec": {
      "name": "python3",
      "display_name": "Python 3"
    },
    "language_info": {
      "name": "python"
    },
    "accelerator": "GPU"
  },
  "cells": [
    {
      "cell_type": "markdown",
      "metadata": {
        "id": "view-in-github",
        "colab_type": "text"
      },
      "source": [
        "<a href=\"https://colab.research.google.com/github/HK-TO/GANs/blob/main/InfoGAN.ipynb\" target=\"_parent\"><img src=\"https://colab.research.google.com/assets/colab-badge.svg\" alt=\"Open In Colab\"/></a>"
      ]
    },
    {
      "cell_type": "markdown",
      "source": [
        "以下のサイトを参照した.  \n",
        "https://qiita.com/keiji_dl/items/45a5775a361151f9189d"
      ],
      "metadata": {
        "id": "JcmdPxzHPMpe"
      }
    },
    {
      "cell_type": "code",
      "execution_count": 1,
      "metadata": {
        "id": "x5umF_XX60cZ"
      },
      "outputs": [],
      "source": [
        "import torch\n",
        "from torch import nn"
      ]
    },
    {
      "cell_type": "markdown",
      "source": [
        "Define the discriminator and generator for MNIST datasets."
      ],
      "metadata": {
        "id": "ZsrKLvGF7Qhd"
      }
    },
    {
      "cell_type": "code",
      "source": [
        "class Discriminator(nn.Module):\n",
        "    def __init__(self):\n",
        "        super(Discriminator, self).__init__()\n",
        "        self.fc1 = nn.Linear(784, 512)\n",
        "        self.fc2 = nn.Linear(512, 1)\n",
        "        self.activation = nn.LeakyReLU(0.1)\n",
        "\n",
        "    def forward(self, x):\n",
        "        x = x.view(-1, 784)\n",
        "        x = self.activation(self.fc1(x))\n",
        "        x = self.fc2(x)\n",
        "\n",
        "        return nn.Sigmoid()(x)"
      ],
      "metadata": {
        "id": "FKpkNlhj7pjw"
      },
      "execution_count": 2,
      "outputs": []
    },
    {
      "cell_type": "code",
      "source": [
        "class Generator(nn.Module):\n",
        "    def __init__(self):\n",
        "        super(Generator, self).__init__()\n",
        "        self.fc1 = nn.Linear(128, 1024)\n",
        "        self.fc2 = nn.Linear(1024, 2048)\n",
        "        self.fc3 = nn.Linear(2048, 784)\n",
        "        self.activation = nn.ReLU()\n",
        "\n",
        "    def forward(self, x):\n",
        "        x = self.activation(self.fc1(x))\n",
        "        x = self.activation(self.fc2(x))\n",
        "        x = self.fc3(x)\n",
        "        x = x.view(-1, 1, 28, 28)\n",
        "        return nn.Tanh()(x)"
      ],
      "metadata": {
        "id": "F7fC9vOf4Zwg"
      },
      "execution_count": 3,
      "outputs": []
    },
    {
      "cell_type": "code",
      "source": [
        "class Auxiliary(nn.Moduel):\n",
        "    def __init__(self):\n",
        "        super(Auxiliary, self).__init__()\n",
        "        self.fc1 = nn.Linear(784, 512)\n",
        "        self.fc2 = nn.Linear(512, 10)\n",
        "        self.activation = nn.LeakyReLU(0.1)\n",
        "\n",
        "    def forward(self, x):\n",
        "        x = self.activation(self.fc1(x))\n",
        "        x = self.fc2(x)\n",
        "        return nn.Tanh()(x)"
      ],
      "metadata": {
        "id": "VWpEK5RlhRd4"
      },
      "execution_count": null,
      "outputs": []
    },
    {
      "cell_type": "markdown",
      "source": [],
      "metadata": {
        "id": "SOK6nXs67WJm"
      }
    },
    {
      "cell_type": "code",
      "source": [
        "import time\n",
        "import torch\n",
        "from torch import nn, optim\n",
        "from torch.utils.data import DataLoader\n",
        "from torchvision import datasets\n",
        "from torchvision.transforms import transforms\n",
        "import numpy as np\n",
        "import matplotlib.pyplot as plt"
      ],
      "metadata": {
        "id": "KqvVRhJN0X7C"
      },
      "execution_count": 4,
      "outputs": []
    },
    {
      "cell_type": "code",
      "source": [
        "# set up the gpu device\n",
        "device = torch.device('cuda' if torch.cuda.is_available() else 'cpu')\n",
        "\n",
        "# hyperparameter\n",
        "epochs = 30\n",
        "lr = 2e-4\n",
        "batch_size = 64\n",
        "loss = nn.BCELoss()\n",
        "\n",
        "# Model\n",
        "generator = Generator().to(device)\n",
        "discriminator = Discriminator().to(device)\n",
        "\n",
        "generator_optimizer = optim.Adam(generator.parameters(), lr=lr, betas=(0.5, 0.999))\n",
        "discriminator_optimizer = optim.Adam(discriminator.parameters(), lr=lr, betas=(0.5, 0.999))\n",
        "\n",
        "# Define transform\n",
        "transform = transforms.Compose([transforms.ToTensor(),\n",
        "                                   transforms.Normalize((0.5, ), (0.5, ))])\n",
        "\n",
        "# Define data loader\n",
        "train_set = datasets.MNIST('mnist/', train=True, download=True, transform=transform)\n",
        "train_loader = DataLoader(train_set, batch_size=batch_size, shuffle=True)"
      ],
      "metadata": {
        "id": "tTFne1ct7MeE",
        "outputId": "025c3c5a-3774-4181-ce74-714077e46890",
        "colab": {
          "base_uri": "https://localhost:8080/"
        }
      },
      "execution_count": 5,
      "outputs": [
        {
          "output_type": "stream",
          "name": "stdout",
          "text": [
            "Downloading http://yann.lecun.com/exdb/mnist/train-images-idx3-ubyte.gz\n",
            "Downloading http://yann.lecun.com/exdb/mnist/train-images-idx3-ubyte.gz to mnist/MNIST/raw/train-images-idx3-ubyte.gz\n"
          ]
        },
        {
          "output_type": "stream",
          "name": "stderr",
          "text": [
            "100%|██████████| 9912422/9912422 [00:00<00:00, 164665412.12it/s]\n"
          ]
        },
        {
          "output_type": "stream",
          "name": "stdout",
          "text": [
            "Extracting mnist/MNIST/raw/train-images-idx3-ubyte.gz to mnist/MNIST/raw\n",
            "\n",
            "Downloading http://yann.lecun.com/exdb/mnist/train-labels-idx1-ubyte.gz\n",
            "Downloading http://yann.lecun.com/exdb/mnist/train-labels-idx1-ubyte.gz to mnist/MNIST/raw/train-labels-idx1-ubyte.gz\n"
          ]
        },
        {
          "output_type": "stream",
          "name": "stderr",
          "text": [
            "100%|██████████| 28881/28881 [00:00<00:00, 7489532.20it/s]"
          ]
        },
        {
          "output_type": "stream",
          "name": "stdout",
          "text": [
            "Extracting mnist/MNIST/raw/train-labels-idx1-ubyte.gz to mnist/MNIST/raw\n",
            "\n",
            "Downloading http://yann.lecun.com/exdb/mnist/t10k-images-idx3-ubyte.gz\n",
            "Downloading http://yann.lecun.com/exdb/mnist/t10k-images-idx3-ubyte.gz to mnist/MNIST/raw/t10k-images-idx3-ubyte.gz\n"
          ]
        },
        {
          "output_type": "stream",
          "name": "stderr",
          "text": [
            "\n",
            "100%|██████████| 1648877/1648877 [00:00<00:00, 48645907.63it/s]\n"
          ]
        },
        {
          "output_type": "stream",
          "name": "stdout",
          "text": [
            "Extracting mnist/MNIST/raw/t10k-images-idx3-ubyte.gz to mnist/MNIST/raw\n",
            "\n",
            "Downloading http://yann.lecun.com/exdb/mnist/t10k-labels-idx1-ubyte.gz\n",
            "Downloading http://yann.lecun.com/exdb/mnist/t10k-labels-idx1-ubyte.gz to mnist/MNIST/raw/t10k-labels-idx1-ubyte.gz\n"
          ]
        },
        {
          "output_type": "stream",
          "name": "stderr",
          "text": [
            "100%|██████████| 4542/4542 [00:00<00:00, 23872843.07it/s]\n"
          ]
        },
        {
          "output_type": "stream",
          "name": "stdout",
          "text": [
            "Extracting mnist/MNIST/raw/t10k-labels-idx1-ubyte.gz to mnist/MNIST/raw\n",
            "\n"
          ]
        }
      ]
    },
    {
      "cell_type": "code",
      "source": [
        "# Learning process\n",
        "for epoch in range(epochs):\n",
        "    for idx, (imgs, _) in enumerate(train_loader):\n",
        "        idx += 1\n",
        "\n",
        "        # Train discriminator\n",
        "        real_inputs = imgs.to(device)\n",
        "        real_outputs = discriminator(real_inputs)\n",
        "        real_label = torch.ones((real_inputs.shape[0], 1), device=device)\n",
        "\n",
        "        noise = (torch.rand((real_inputs.shape[0], 128), device=device) - 0.5) / 0.5\n",
        "        fake_inputs = generator(noise)\n",
        "        fake_outputs = discriminator(fake_inputs)\n",
        "        fake_label = torch.zeros((fake_inputs.shape[0], 1), device=device)\n",
        "\n",
        "        outputs = torch.cat([real_outputs, fake_outputs], dim=0)\n",
        "        labels = torch.cat([real_label, fake_label], dim=0)\n",
        "\n",
        "        discriminator_loss = loss(outputs, labels)\n",
        "        discriminator_optimizer.zero_grad()\n",
        "        discriminator_loss.backward()\n",
        "        discriminator_optimizer.step()\n",
        "\n",
        "        # Train generator\n",
        "        noise = (torch.rand((real_inputs.shape[0], 128), device=device) - 0.5) / 0.5\n",
        "        fake_inputs = generator(noise)\n",
        "        fake_outputs = discriminator(fake_inputs)\n",
        "        fake_targets = torch.ones((fake_inputs.shape[0], 1), device=device)\n",
        "\n",
        "        generator_loss = loss(fake_outputs, fake_targets)\n",
        "        generator_optimizer.zero_grad()\n",
        "        generator_loss.backward()\n",
        "        generator_optimizer.step()\n",
        "\n",
        "        if idx % 100 == 0 or idx == len(train_loader):\n",
        "            print('Epoch {} Iteration {}: discriminator loss {:.3f} generator loss {:.3f}'.format(epoch, idx, discriminator_loss.item(), generator_loss.item()))\n",
        "\n",
        "    torch.save(generator, 'Generator_{}'.format(epoch))\n",
        "    print('Model saved.')"
      ],
      "metadata": {
        "id": "XAM114oV0z2Z",
        "outputId": "0fca3d54-8384-457b-fb9b-72a3e98c394e",
        "colab": {
          "base_uri": "https://localhost:8080/"
        }
      },
      "execution_count": 6,
      "outputs": [
        {
          "output_type": "stream",
          "name": "stdout",
          "text": [
            "Epoch 0 Iteration 100: discriminator loss 0.597 generator loss 1.070\n",
            "Epoch 0 Iteration 200: discriminator loss 0.678 generator loss 0.755\n",
            "Epoch 0 Iteration 300: discriminator loss 0.694 generator loss 0.741\n",
            "Epoch 0 Iteration 400: discriminator loss 0.638 generator loss 0.807\n",
            "Epoch 0 Iteration 500: discriminator loss 0.569 generator loss 0.865\n",
            "Epoch 0 Iteration 600: discriminator loss 0.514 generator loss 0.945\n",
            "Epoch 0 Iteration 700: discriminator loss 0.543 generator loss 0.876\n",
            "Epoch 0 Iteration 800: discriminator loss 0.484 generator loss 1.041\n",
            "Epoch 0 Iteration 900: discriminator loss 0.483 generator loss 1.010\n",
            "Epoch 0 Iteration 938: discriminator loss 0.478 generator loss 1.127\n",
            "Model saved.\n",
            "Epoch 1 Iteration 100: discriminator loss 0.473 generator loss 1.199\n",
            "Epoch 1 Iteration 200: discriminator loss 0.455 generator loss 1.237\n",
            "Epoch 1 Iteration 300: discriminator loss 0.465 generator loss 1.285\n",
            "Epoch 1 Iteration 400: discriminator loss 0.506 generator loss 1.666\n",
            "Epoch 1 Iteration 500: discriminator loss 0.399 generator loss 1.638\n",
            "Epoch 1 Iteration 600: discriminator loss 0.448 generator loss 1.553\n",
            "Epoch 1 Iteration 700: discriminator loss 0.490 generator loss 1.521\n",
            "Epoch 1 Iteration 800: discriminator loss 0.423 generator loss 1.225\n",
            "Epoch 1 Iteration 900: discriminator loss 0.601 generator loss 1.138\n",
            "Epoch 1 Iteration 938: discriminator loss 0.602 generator loss 0.980\n",
            "Model saved.\n",
            "Epoch 2 Iteration 100: discriminator loss 0.336 generator loss 1.723\n",
            "Epoch 2 Iteration 200: discriminator loss 0.502 generator loss 1.047\n",
            "Epoch 2 Iteration 300: discriminator loss 0.451 generator loss 1.474\n",
            "Epoch 2 Iteration 400: discriminator loss 0.387 generator loss 2.350\n",
            "Epoch 2 Iteration 500: discriminator loss 0.419 generator loss 1.452\n",
            "Epoch 2 Iteration 600: discriminator loss 0.518 generator loss 1.148\n",
            "Epoch 2 Iteration 700: discriminator loss 0.538 generator loss 1.234\n",
            "Epoch 2 Iteration 800: discriminator loss 0.561 generator loss 0.959\n",
            "Epoch 2 Iteration 900: discriminator loss 0.464 generator loss 1.538\n",
            "Epoch 2 Iteration 938: discriminator loss 0.521 generator loss 1.062\n",
            "Model saved.\n",
            "Epoch 3 Iteration 100: discriminator loss 0.546 generator loss 1.957\n",
            "Epoch 3 Iteration 200: discriminator loss 0.396 generator loss 1.822\n",
            "Epoch 3 Iteration 300: discriminator loss 0.513 generator loss 1.643\n",
            "Epoch 3 Iteration 400: discriminator loss 0.448 generator loss 1.866\n",
            "Epoch 3 Iteration 500: discriminator loss 0.505 generator loss 1.643\n",
            "Epoch 3 Iteration 600: discriminator loss 0.450 generator loss 1.578\n",
            "Epoch 3 Iteration 700: discriminator loss 0.483 generator loss 1.266\n",
            "Epoch 3 Iteration 800: discriminator loss 0.508 generator loss 1.472\n",
            "Epoch 3 Iteration 900: discriminator loss 0.433 generator loss 1.406\n",
            "Epoch 3 Iteration 938: discriminator loss 0.493 generator loss 1.288\n",
            "Model saved.\n",
            "Epoch 4 Iteration 100: discriminator loss 0.541 generator loss 0.925\n",
            "Epoch 4 Iteration 200: discriminator loss 0.483 generator loss 1.286\n",
            "Epoch 4 Iteration 300: discriminator loss 0.512 generator loss 1.421\n",
            "Epoch 4 Iteration 400: discriminator loss 0.513 generator loss 1.436\n",
            "Epoch 4 Iteration 500: discriminator loss 0.459 generator loss 1.387\n",
            "Epoch 4 Iteration 600: discriminator loss 0.469 generator loss 1.734\n",
            "Epoch 4 Iteration 700: discriminator loss 0.458 generator loss 1.496\n",
            "Epoch 4 Iteration 800: discriminator loss 0.496 generator loss 1.688\n",
            "Epoch 4 Iteration 900: discriminator loss 0.506 generator loss 1.556\n",
            "Epoch 4 Iteration 938: discriminator loss 0.593 generator loss 1.348\n",
            "Model saved.\n",
            "Epoch 5 Iteration 100: discriminator loss 0.504 generator loss 0.955\n",
            "Epoch 5 Iteration 200: discriminator loss 0.583 generator loss 0.736\n",
            "Epoch 5 Iteration 300: discriminator loss 0.498 generator loss 1.203\n",
            "Epoch 5 Iteration 400: discriminator loss 0.557 generator loss 0.894\n",
            "Epoch 5 Iteration 500: discriminator loss 0.550 generator loss 0.855\n",
            "Epoch 5 Iteration 600: discriminator loss 0.514 generator loss 1.382\n",
            "Epoch 5 Iteration 700: discriminator loss 0.553 generator loss 1.220\n",
            "Epoch 5 Iteration 800: discriminator loss 0.555 generator loss 1.630\n",
            "Epoch 5 Iteration 900: discriminator loss 0.556 generator loss 0.807\n",
            "Epoch 5 Iteration 938: discriminator loss 0.542 generator loss 0.873\n",
            "Model saved.\n",
            "Epoch 6 Iteration 100: discriminator loss 0.566 generator loss 1.018\n",
            "Epoch 6 Iteration 200: discriminator loss 0.608 generator loss 0.847\n",
            "Epoch 6 Iteration 300: discriminator loss 0.587 generator loss 1.319\n",
            "Epoch 6 Iteration 400: discriminator loss 0.516 generator loss 1.090\n",
            "Epoch 6 Iteration 500: discriminator loss 0.632 generator loss 1.401\n",
            "Epoch 6 Iteration 600: discriminator loss 0.525 generator loss 1.181\n",
            "Epoch 6 Iteration 700: discriminator loss 0.524 generator loss 0.954\n",
            "Epoch 6 Iteration 800: discriminator loss 0.609 generator loss 0.920\n",
            "Epoch 6 Iteration 900: discriminator loss 0.558 generator loss 1.389\n",
            "Epoch 6 Iteration 938: discriminator loss 0.485 generator loss 1.255\n",
            "Model saved.\n",
            "Epoch 7 Iteration 100: discriminator loss 0.564 generator loss 1.082\n",
            "Epoch 7 Iteration 200: discriminator loss 0.687 generator loss 0.921\n",
            "Epoch 7 Iteration 300: discriminator loss 0.532 generator loss 0.720\n",
            "Epoch 7 Iteration 400: discriminator loss 0.554 generator loss 1.254\n",
            "Epoch 7 Iteration 500: discriminator loss 0.544 generator loss 1.101\n",
            "Epoch 7 Iteration 600: discriminator loss 0.522 generator loss 0.917\n",
            "Epoch 7 Iteration 700: discriminator loss 0.588 generator loss 1.555\n",
            "Epoch 7 Iteration 800: discriminator loss 0.605 generator loss 1.526\n",
            "Epoch 7 Iteration 900: discriminator loss 0.590 generator loss 1.257\n",
            "Epoch 7 Iteration 938: discriminator loss 0.569 generator loss 1.101\n",
            "Model saved.\n",
            "Epoch 8 Iteration 100: discriminator loss 0.576 generator loss 1.122\n",
            "Epoch 8 Iteration 200: discriminator loss 0.620 generator loss 0.684\n",
            "Epoch 8 Iteration 300: discriminator loss 0.635 generator loss 1.047\n",
            "Epoch 8 Iteration 400: discriminator loss 0.584 generator loss 1.120\n",
            "Epoch 8 Iteration 500: discriminator loss 0.580 generator loss 0.983\n",
            "Epoch 8 Iteration 600: discriminator loss 0.563 generator loss 0.908\n",
            "Epoch 8 Iteration 700: discriminator loss 0.598 generator loss 1.178\n",
            "Epoch 8 Iteration 800: discriminator loss 0.675 generator loss 0.884\n",
            "Epoch 8 Iteration 900: discriminator loss 0.606 generator loss 1.481\n",
            "Epoch 8 Iteration 938: discriminator loss 0.534 generator loss 1.644\n",
            "Model saved.\n",
            "Epoch 9 Iteration 100: discriminator loss 0.663 generator loss 1.390\n",
            "Epoch 9 Iteration 200: discriminator loss 0.645 generator loss 1.257\n",
            "Epoch 9 Iteration 300: discriminator loss 0.675 generator loss 0.982\n",
            "Epoch 9 Iteration 400: discriminator loss 0.681 generator loss 0.929\n",
            "Epoch 9 Iteration 500: discriminator loss 0.682 generator loss 0.955\n",
            "Epoch 9 Iteration 600: discriminator loss 0.663 generator loss 0.949\n",
            "Epoch 9 Iteration 700: discriminator loss 0.649 generator loss 0.988\n",
            "Epoch 9 Iteration 800: discriminator loss 0.671 generator loss 0.858\n",
            "Epoch 9 Iteration 900: discriminator loss 0.603 generator loss 1.045\n",
            "Epoch 9 Iteration 938: discriminator loss 0.619 generator loss 0.877\n",
            "Model saved.\n",
            "Epoch 10 Iteration 100: discriminator loss 0.697 generator loss 0.759\n",
            "Epoch 10 Iteration 200: discriminator loss 0.621 generator loss 0.865\n",
            "Epoch 10 Iteration 300: discriminator loss 0.709 generator loss 0.789\n",
            "Epoch 10 Iteration 400: discriminator loss 0.683 generator loss 0.865\n",
            "Epoch 10 Iteration 500: discriminator loss 0.632 generator loss 0.952\n",
            "Epoch 10 Iteration 600: discriminator loss 0.634 generator loss 0.852\n",
            "Epoch 10 Iteration 700: discriminator loss 0.700 generator loss 1.157\n",
            "Epoch 10 Iteration 800: discriminator loss 0.634 generator loss 1.048\n",
            "Epoch 10 Iteration 900: discriminator loss 0.628 generator loss 0.638\n",
            "Epoch 10 Iteration 938: discriminator loss 0.618 generator loss 1.004\n",
            "Model saved.\n",
            "Epoch 11 Iteration 100: discriminator loss 0.702 generator loss 1.099\n",
            "Epoch 11 Iteration 200: discriminator loss 0.607 generator loss 0.962\n",
            "Epoch 11 Iteration 300: discriminator loss 0.579 generator loss 0.855\n",
            "Epoch 11 Iteration 400: discriminator loss 0.631 generator loss 0.919\n",
            "Epoch 11 Iteration 500: discriminator loss 0.676 generator loss 1.126\n",
            "Epoch 11 Iteration 600: discriminator loss 0.639 generator loss 0.955\n",
            "Epoch 11 Iteration 700: discriminator loss 0.622 generator loss 0.848\n",
            "Epoch 11 Iteration 800: discriminator loss 0.697 generator loss 0.661\n",
            "Epoch 11 Iteration 900: discriminator loss 0.592 generator loss 1.049\n",
            "Epoch 11 Iteration 938: discriminator loss 0.616 generator loss 1.038\n",
            "Model saved.\n",
            "Epoch 12 Iteration 100: discriminator loss 0.607 generator loss 0.760\n",
            "Epoch 12 Iteration 200: discriminator loss 0.642 generator loss 0.631\n",
            "Epoch 12 Iteration 300: discriminator loss 0.644 generator loss 1.406\n",
            "Epoch 12 Iteration 400: discriminator loss 0.584 generator loss 0.980\n",
            "Epoch 12 Iteration 500: discriminator loss 0.651 generator loss 0.818\n",
            "Epoch 12 Iteration 600: discriminator loss 0.597 generator loss 0.854\n",
            "Epoch 12 Iteration 700: discriminator loss 0.597 generator loss 0.883\n",
            "Epoch 12 Iteration 800: discriminator loss 0.631 generator loss 1.061\n",
            "Epoch 12 Iteration 900: discriminator loss 0.622 generator loss 1.113\n",
            "Epoch 12 Iteration 938: discriminator loss 0.687 generator loss 0.621\n",
            "Model saved.\n",
            "Epoch 13 Iteration 100: discriminator loss 0.640 generator loss 0.660\n",
            "Epoch 13 Iteration 200: discriminator loss 0.628 generator loss 0.873\n",
            "Epoch 13 Iteration 300: discriminator loss 0.661 generator loss 1.158\n",
            "Epoch 13 Iteration 400: discriminator loss 0.668 generator loss 0.881\n",
            "Epoch 13 Iteration 500: discriminator loss 0.625 generator loss 0.984\n",
            "Epoch 13 Iteration 600: discriminator loss 0.710 generator loss 0.734\n",
            "Epoch 13 Iteration 700: discriminator loss 0.652 generator loss 0.635\n",
            "Epoch 13 Iteration 800: discriminator loss 0.628 generator loss 0.875\n",
            "Epoch 13 Iteration 900: discriminator loss 0.668 generator loss 0.619\n",
            "Epoch 13 Iteration 938: discriminator loss 0.675 generator loss 0.673\n",
            "Model saved.\n",
            "Epoch 14 Iteration 100: discriminator loss 0.638 generator loss 0.840\n",
            "Epoch 14 Iteration 200: discriminator loss 0.657 generator loss 0.893\n",
            "Epoch 14 Iteration 300: discriminator loss 0.654 generator loss 0.743\n",
            "Epoch 14 Iteration 400: discriminator loss 0.662 generator loss 0.872\n",
            "Epoch 14 Iteration 500: discriminator loss 0.593 generator loss 0.855\n",
            "Epoch 14 Iteration 600: discriminator loss 0.667 generator loss 0.813\n",
            "Epoch 14 Iteration 700: discriminator loss 0.633 generator loss 0.908\n",
            "Epoch 14 Iteration 800: discriminator loss 0.682 generator loss 0.600\n",
            "Epoch 14 Iteration 900: discriminator loss 0.663 generator loss 1.157\n",
            "Epoch 14 Iteration 938: discriminator loss 0.651 generator loss 0.882\n",
            "Model saved.\n",
            "Epoch 15 Iteration 100: discriminator loss 0.616 generator loss 0.711\n",
            "Epoch 15 Iteration 200: discriminator loss 0.635 generator loss 0.680\n",
            "Epoch 15 Iteration 300: discriminator loss 0.597 generator loss 1.080\n",
            "Epoch 15 Iteration 400: discriminator loss 0.654 generator loss 0.654\n",
            "Epoch 15 Iteration 500: discriminator loss 0.717 generator loss 1.202\n",
            "Epoch 15 Iteration 600: discriminator loss 0.634 generator loss 0.606\n",
            "Epoch 15 Iteration 700: discriminator loss 0.649 generator loss 0.855\n",
            "Epoch 15 Iteration 800: discriminator loss 0.655 generator loss 0.889\n",
            "Epoch 15 Iteration 900: discriminator loss 0.652 generator loss 0.723\n",
            "Epoch 15 Iteration 938: discriminator loss 0.691 generator loss 0.912\n",
            "Model saved.\n",
            "Epoch 16 Iteration 100: discriminator loss 0.663 generator loss 0.609\n",
            "Epoch 16 Iteration 200: discriminator loss 0.666 generator loss 1.041\n",
            "Epoch 16 Iteration 300: discriminator loss 0.641 generator loss 1.054\n",
            "Epoch 16 Iteration 400: discriminator loss 0.654 generator loss 0.795\n",
            "Epoch 16 Iteration 500: discriminator loss 0.665 generator loss 0.902\n",
            "Epoch 16 Iteration 600: discriminator loss 0.617 generator loss 0.941\n",
            "Epoch 16 Iteration 700: discriminator loss 0.641 generator loss 0.756\n",
            "Epoch 16 Iteration 800: discriminator loss 0.664 generator loss 0.600\n",
            "Epoch 16 Iteration 900: discriminator loss 0.681 generator loss 0.833\n",
            "Epoch 16 Iteration 938: discriminator loss 0.659 generator loss 0.944\n",
            "Model saved.\n",
            "Epoch 17 Iteration 100: discriminator loss 0.646 generator loss 1.013\n",
            "Epoch 17 Iteration 200: discriminator loss 0.650 generator loss 0.962\n",
            "Epoch 17 Iteration 300: discriminator loss 0.686 generator loss 0.844\n",
            "Epoch 17 Iteration 400: discriminator loss 0.680 generator loss 0.739\n",
            "Epoch 17 Iteration 500: discriminator loss 0.707 generator loss 1.341\n",
            "Epoch 17 Iteration 600: discriminator loss 0.640 generator loss 0.808\n",
            "Epoch 17 Iteration 700: discriminator loss 0.632 generator loss 1.005\n",
            "Epoch 17 Iteration 800: discriminator loss 0.667 generator loss 1.018\n",
            "Epoch 17 Iteration 900: discriminator loss 0.672 generator loss 0.816\n",
            "Epoch 17 Iteration 938: discriminator loss 0.619 generator loss 0.855\n",
            "Model saved.\n",
            "Epoch 18 Iteration 100: discriminator loss 0.674 generator loss 0.758\n",
            "Epoch 18 Iteration 200: discriminator loss 0.685 generator loss 0.665\n",
            "Epoch 18 Iteration 300: discriminator loss 0.693 generator loss 0.677\n",
            "Epoch 18 Iteration 400: discriminator loss 0.680 generator loss 0.699\n",
            "Epoch 18 Iteration 500: discriminator loss 0.600 generator loss 0.784\n",
            "Epoch 18 Iteration 600: discriminator loss 0.658 generator loss 0.799\n",
            "Epoch 18 Iteration 700: discriminator loss 0.671 generator loss 0.918\n",
            "Epoch 18 Iteration 800: discriminator loss 0.742 generator loss 0.965\n",
            "Epoch 18 Iteration 900: discriminator loss 0.666 generator loss 0.846\n",
            "Epoch 18 Iteration 938: discriminator loss 0.636 generator loss 0.973\n",
            "Model saved.\n",
            "Epoch 19 Iteration 100: discriminator loss 0.658 generator loss 0.873\n",
            "Epoch 19 Iteration 200: discriminator loss 0.634 generator loss 0.973\n",
            "Epoch 19 Iteration 300: discriminator loss 0.652 generator loss 0.680\n",
            "Epoch 19 Iteration 400: discriminator loss 0.656 generator loss 0.841\n",
            "Epoch 19 Iteration 500: discriminator loss 0.672 generator loss 0.974\n",
            "Epoch 19 Iteration 600: discriminator loss 0.703 generator loss 0.782\n",
            "Epoch 19 Iteration 700: discriminator loss 0.680 generator loss 0.806\n",
            "Epoch 19 Iteration 800: discriminator loss 0.687 generator loss 0.802\n",
            "Epoch 19 Iteration 900: discriminator loss 0.681 generator loss 0.604\n",
            "Epoch 19 Iteration 938: discriminator loss 0.628 generator loss 0.628\n",
            "Model saved.\n",
            "Epoch 20 Iteration 100: discriminator loss 0.672 generator loss 0.820\n",
            "Epoch 20 Iteration 200: discriminator loss 0.643 generator loss 0.863\n",
            "Epoch 20 Iteration 300: discriminator loss 0.693 generator loss 1.084\n",
            "Epoch 20 Iteration 400: discriminator loss 0.678 generator loss 0.870\n",
            "Epoch 20 Iteration 500: discriminator loss 0.695 generator loss 0.798\n",
            "Epoch 20 Iteration 600: discriminator loss 0.639 generator loss 0.782\n",
            "Epoch 20 Iteration 700: discriminator loss 0.703 generator loss 0.967\n",
            "Epoch 20 Iteration 800: discriminator loss 0.674 generator loss 1.062\n",
            "Epoch 20 Iteration 900: discriminator loss 0.676 generator loss 0.927\n",
            "Epoch 20 Iteration 938: discriminator loss 0.704 generator loss 1.099\n",
            "Model saved.\n",
            "Epoch 21 Iteration 100: discriminator loss 0.685 generator loss 0.636\n",
            "Epoch 21 Iteration 200: discriminator loss 0.636 generator loss 0.770\n",
            "Epoch 21 Iteration 300: discriminator loss 0.654 generator loss 0.808\n",
            "Epoch 21 Iteration 400: discriminator loss 0.674 generator loss 0.696\n",
            "Epoch 21 Iteration 500: discriminator loss 0.682 generator loss 0.969\n",
            "Epoch 21 Iteration 600: discriminator loss 0.639 generator loss 1.063\n",
            "Epoch 21 Iteration 700: discriminator loss 0.677 generator loss 0.643\n",
            "Epoch 21 Iteration 800: discriminator loss 0.663 generator loss 1.047\n",
            "Epoch 21 Iteration 900: discriminator loss 0.725 generator loss 0.625\n",
            "Epoch 21 Iteration 938: discriminator loss 0.608 generator loss 0.729\n",
            "Model saved.\n",
            "Epoch 22 Iteration 100: discriminator loss 0.701 generator loss 0.588\n",
            "Epoch 22 Iteration 200: discriminator loss 0.664 generator loss 0.778\n",
            "Epoch 22 Iteration 300: discriminator loss 0.694 generator loss 0.657\n",
            "Epoch 22 Iteration 400: discriminator loss 0.665 generator loss 0.880\n",
            "Epoch 22 Iteration 500: discriminator loss 0.705 generator loss 0.739\n",
            "Epoch 22 Iteration 600: discriminator loss 0.718 generator loss 0.963\n",
            "Epoch 22 Iteration 700: discriminator loss 0.652 generator loss 0.852\n",
            "Epoch 22 Iteration 800: discriminator loss 0.674 generator loss 0.566\n",
            "Epoch 22 Iteration 900: discriminator loss 0.699 generator loss 0.988\n",
            "Epoch 22 Iteration 938: discriminator loss 0.708 generator loss 0.893\n",
            "Model saved.\n",
            "Epoch 23 Iteration 100: discriminator loss 0.657 generator loss 0.575\n",
            "Epoch 23 Iteration 200: discriminator loss 0.666 generator loss 0.878\n",
            "Epoch 23 Iteration 300: discriminator loss 0.639 generator loss 0.933\n",
            "Epoch 23 Iteration 400: discriminator loss 0.689 generator loss 0.599\n",
            "Epoch 23 Iteration 500: discriminator loss 0.645 generator loss 0.752\n",
            "Epoch 23 Iteration 600: discriminator loss 0.659 generator loss 0.840\n",
            "Epoch 23 Iteration 700: discriminator loss 0.671 generator loss 0.658\n",
            "Epoch 23 Iteration 800: discriminator loss 0.686 generator loss 0.655\n",
            "Epoch 23 Iteration 900: discriminator loss 0.676 generator loss 0.888\n",
            "Epoch 23 Iteration 938: discriminator loss 0.673 generator loss 0.898\n",
            "Model saved.\n",
            "Epoch 24 Iteration 100: discriminator loss 0.683 generator loss 0.751\n",
            "Epoch 24 Iteration 200: discriminator loss 0.715 generator loss 1.078\n",
            "Epoch 24 Iteration 300: discriminator loss 0.657 generator loss 1.010\n",
            "Epoch 24 Iteration 400: discriminator loss 0.657 generator loss 0.964\n",
            "Epoch 24 Iteration 500: discriminator loss 0.674 generator loss 0.576\n",
            "Epoch 24 Iteration 600: discriminator loss 0.678 generator loss 0.704\n",
            "Epoch 24 Iteration 700: discriminator loss 0.667 generator loss 0.627\n",
            "Epoch 24 Iteration 800: discriminator loss 0.673 generator loss 0.889\n",
            "Epoch 24 Iteration 900: discriminator loss 0.678 generator loss 0.658\n",
            "Epoch 24 Iteration 938: discriminator loss 0.629 generator loss 1.053\n",
            "Model saved.\n",
            "Epoch 25 Iteration 100: discriminator loss 0.661 generator loss 1.030\n",
            "Epoch 25 Iteration 200: discriminator loss 0.669 generator loss 0.840\n",
            "Epoch 25 Iteration 300: discriminator loss 0.650 generator loss 0.990\n",
            "Epoch 25 Iteration 400: discriminator loss 0.674 generator loss 0.724\n",
            "Epoch 25 Iteration 500: discriminator loss 0.667 generator loss 0.821\n",
            "Epoch 25 Iteration 600: discriminator loss 0.656 generator loss 0.943\n",
            "Epoch 25 Iteration 700: discriminator loss 0.650 generator loss 0.978\n",
            "Epoch 25 Iteration 800: discriminator loss 0.679 generator loss 0.608\n",
            "Epoch 25 Iteration 900: discriminator loss 0.656 generator loss 0.807\n",
            "Epoch 25 Iteration 938: discriminator loss 0.678 generator loss 0.757\n",
            "Model saved.\n",
            "Epoch 26 Iteration 100: discriminator loss 0.677 generator loss 0.699\n",
            "Epoch 26 Iteration 200: discriminator loss 0.662 generator loss 0.784\n",
            "Epoch 26 Iteration 300: discriminator loss 0.683 generator loss 0.681\n",
            "Epoch 26 Iteration 400: discriminator loss 0.659 generator loss 0.909\n",
            "Epoch 26 Iteration 500: discriminator loss 0.645 generator loss 1.046\n",
            "Epoch 26 Iteration 600: discriminator loss 0.662 generator loss 0.960\n",
            "Epoch 26 Iteration 700: discriminator loss 0.664 generator loss 0.630\n",
            "Epoch 26 Iteration 800: discriminator loss 0.654 generator loss 1.026\n",
            "Epoch 26 Iteration 900: discriminator loss 0.661 generator loss 0.787\n",
            "Epoch 26 Iteration 938: discriminator loss 0.623 generator loss 0.707\n",
            "Model saved.\n",
            "Epoch 27 Iteration 100: discriminator loss 0.649 generator loss 0.779\n",
            "Epoch 27 Iteration 200: discriminator loss 0.632 generator loss 0.751\n",
            "Epoch 27 Iteration 300: discriminator loss 0.659 generator loss 0.786\n",
            "Epoch 27 Iteration 400: discriminator loss 0.636 generator loss 0.760\n",
            "Epoch 27 Iteration 500: discriminator loss 0.655 generator loss 0.636\n",
            "Epoch 27 Iteration 600: discriminator loss 0.650 generator loss 0.800\n",
            "Epoch 27 Iteration 700: discriminator loss 0.665 generator loss 0.784\n",
            "Epoch 27 Iteration 800: discriminator loss 0.665 generator loss 0.659\n",
            "Epoch 27 Iteration 900: discriminator loss 0.663 generator loss 0.788\n",
            "Epoch 27 Iteration 938: discriminator loss 0.712 generator loss 0.850\n",
            "Model saved.\n",
            "Epoch 28 Iteration 100: discriminator loss 0.679 generator loss 0.794\n",
            "Epoch 28 Iteration 200: discriminator loss 0.659 generator loss 0.697\n",
            "Epoch 28 Iteration 300: discriminator loss 0.669 generator loss 0.860\n",
            "Epoch 28 Iteration 400: discriminator loss 0.644 generator loss 0.813\n",
            "Epoch 28 Iteration 500: discriminator loss 0.661 generator loss 0.798\n",
            "Epoch 28 Iteration 600: discriminator loss 0.706 generator loss 1.088\n",
            "Epoch 28 Iteration 700: discriminator loss 0.679 generator loss 0.655\n",
            "Epoch 28 Iteration 800: discriminator loss 0.631 generator loss 0.885\n",
            "Epoch 28 Iteration 900: discriminator loss 0.671 generator loss 0.730\n",
            "Epoch 28 Iteration 938: discriminator loss 0.651 generator loss 1.104\n",
            "Model saved.\n",
            "Epoch 29 Iteration 100: discriminator loss 0.659 generator loss 1.098\n",
            "Epoch 29 Iteration 200: discriminator loss 0.648 generator loss 0.831\n",
            "Epoch 29 Iteration 300: discriminator loss 0.648 generator loss 0.655\n",
            "Epoch 29 Iteration 400: discriminator loss 0.667 generator loss 0.842\n",
            "Epoch 29 Iteration 500: discriminator loss 0.686 generator loss 0.697\n",
            "Epoch 29 Iteration 600: discriminator loss 0.695 generator loss 0.504\n",
            "Epoch 29 Iteration 700: discriminator loss 0.649 generator loss 0.760\n",
            "Epoch 29 Iteration 800: discriminator loss 0.647 generator loss 0.835\n",
            "Epoch 29 Iteration 900: discriminator loss 0.645 generator loss 0.771\n",
            "Epoch 29 Iteration 938: discriminator loss 0.655 generator loss 1.011\n",
            "Model saved.\n"
          ]
        }
      ]
    },
    {
      "cell_type": "markdown",
      "source": [
        "Generate images from trained model."
      ],
      "metadata": {
        "id": "4indZnB2FSvj"
      }
    },
    {
      "cell_type": "code",
      "source": [
        "input = train_set\n",
        "for i in input:\n",
        "    print('real')\n",
        "    plt.imshow(i[0][0].reshape(28, 28))\n",
        "    plt.show()\n",
        "    real_inputs = i[0][0]\n",
        "    noise = (torch.rand(real_inputs.shape[0], 128)-0.5)/0.5\n",
        "    noise = noise.to(device)\n",
        "    fake_inputs = generator(noise)\n",
        "    print(\"fake\")\n",
        "    plt.imshow(fake_inputs[0][0].cpu().detach().numpy().reshape(28,28))\n",
        "    plt.show()\n",
        "    break"
      ],
      "metadata": {
        "id": "9KCLnsQvFFJt",
        "outputId": "472ec996-5bb3-48e6-81b7-3b3dbc891f6a",
        "colab": {
          "base_uri": "https://localhost:8080/",
          "height": 879
        }
      },
      "execution_count": 8,
      "outputs": [
        {
          "output_type": "stream",
          "name": "stdout",
          "text": [
            "real\n"
          ]
        },
        {
          "output_type": "display_data",
          "data": {
            "text/plain": [
              "<Figure size 640x480 with 1 Axes>"
            ],
            "image/png": "[encoded data removed]"
          },
          "metadata": {}
        },
        {
          "output_type": "stream",
          "name": "stdout",
          "text": [
            "fake\n"
          ]
        },
        {
          "output_type": "display_data",
          "data": {
            "text/plain": [
              "<Figure size 640x480 with 1 Axes>"
            ],
            "image/png": "[encoded data removed]"
          },
          "metadata": {}
        }
      ]
    },
    {
      "cell_type": "code",
      "source": [],
      "metadata": {
        "id": "dx8RcGeqIdJo"
      },
      "execution_count": null,
      "outputs": []
    }
  ]
}